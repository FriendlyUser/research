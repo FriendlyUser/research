{
 "cells": [
  {
   "cell_type": "markdown",
   "metadata": {},
   "source": [
    "# Hierarchical Clustering Asset Allocation with MLFinLab\n",
    "\n",
    "## Abstract\n",
    "The following notebook will explore MLFinLab's implementation of Thomas Raffinot's Hierarchical Equal Risk Contribution portfolio optimization technique. Users will be taken through how they can construct an optimal portfolio using MLFinLab's implementation and the different risk metrics and linkage algorithms supported. Additionally, users will be able to see how they can create custom use cases with this library.\n",
    "\n",
    "## Introduction\n",
    "This tutorial will show users how to optimize a portfolio using the __[Hierarchical Equal Risk Contribution](https://ssrn.com/abstract=3237540)__ (HERC) optimization technique provided through the MLFinLab library. The HERC technique was developed by Thomas Raffinot in 2018, which built off his original __[Hierarchical Clustering Asset Allocation](https://ssrn.com/abstract=2840729)__ (HCAA) technique from 2017. The official documentation for this tutorial can be found __[here](https://mlfinlab.readthedocs.io/en/latest/portfolio_optimisation/hierarchical_clustering_asset_allocation.html)__. \n",
    "\n",
    "\n",
    "From Raffinot's 2018 paper on the HERC optimization technique, the following steps for implementation of the HCAA and HERC techniques were shown. \n",
    "\n",
    "Raffinot described the HCAA implementation in four steps:\n",
    "1. Hierarchical clustering\n",
    "2. Selecting the optimal number of clusters\n",
    "3. Capital is allocated across clusters\n",
    "4. Capital is allocated within clusters\n",
    "\n",
    "HERC is built off this original implementation, combining the machine learning approach of the HCAA technique with the Top-Down recursive bisection approach from the __[Hierarchical Risk Parity](https://hudsonthames.org/an-introduction-to-the-hierarchical-risk-parity-algorithm/)__ algorithm. The HERC algorithm aims to diversify capital and risk allocations throughout the portfolio.\n",
    "\n",
    "The steps for the HERC implementation are computed as:\n",
    "1. Hierarchical clustering\n",
    "2. Selecting the optimal number of clusters\n",
    "3. Top-Down recursive bisection\n",
    "4. Implement Naive Risk Parity within clusters to allocate weights to each asset\n",
    "\n",
    "The HERC implementation provided through MLFinLab currently supports the following metrics for calculating weight allocations:\n",
    "1. 'minimum_variance': The variance of the clusters is used as a risk metric\n",
    "2. 'minimum_standard_deviation': The standard deviation of the clusters is used as a risk metric\n",
    "3. 'sharpe_ratio': The Sharpe ratio of the clusters is used as a risk metric\n",
    "4. 'equal_weighting': All clusters are weighted equally with respect to the risk\n",
    "5. 'expected_shortfall': The expected shortfall of the clusters is used as a risk metric\n",
    "6. 'conditional_drawdown_risk': The conditional drawdown at risk of the clusters is used as a risk metric\n",
    "\n",
    "Additionally, MLFinLab allows users to customize the type of linkage algorithm for the use of clustering. The current supported methods are Single Linkage, Average Linkage, and Complete Linkage. The default linkage method in MLFinLab is set as the Average Linkage. To learn more about the different types of linkage methods, please refer Raffinot's original papers or to the official documentation linked above."
   ]
  },
  {
   "cell_type": "code",
   "execution_count": 7,
   "metadata": {},
   "outputs": [],
   "source": [
    "# Importing our required libraries\n",
    "\n",
    "import pandas as pd\n",
    "import numpy as np\n",
    "import matplotlib.pyplot as plt\n",
    "import plotly.graph_objects as go\n",
    "from mlfinlab.portfolio_optimization.hcaa import HierarchicalClusteringAssetAllocation"
   ]
  },
  {
   "cell_type": "markdown",
   "metadata": {},
   "source": [
    "## The Data\n",
    "All stock data was downloaded from __[Yahoo](https://help.yahoo.com/kb/download-historical-data-yahoo-finance-sln2311.html?guccounter=1&guce_referrer=aHR0cHM6Ly93d3cuZ29vZ2xlLmNvbS8&guce_referrer_sig=AQAAALQCM_6ulNppxJ2pt-zmOL_WPxcZvTy4HJXN_3fjA9Dxb9D1-1av3NsYNZJX8-6HqGFmvxOdQLw4ZEjMhAsBRdCycoKX0sVNI7s25XZ0Eb97ambo2F8hKuwEQd9LSe0Vzrj3eHHLUP7sk5LBG44m9F-7VM9C8avDgJCK1nPyIMA7)__. In this tutorial, we will be working with 5-year historical closing-price data from Apple, Amazon, Facebook, Microsoft, Netflix, and Tesla. Note that the data must be in a Pandas dataframe indexed by date."
   ]
  },
  {
   "cell_type": "code",
   "execution_count": 8,
   "metadata": {},
   "outputs": [
    {
     "data": {
      "text/html": [
       "<div>\n",
       "<style scoped>\n",
       "    .dataframe tbody tr th:only-of-type {\n",
       "        vertical-align: middle;\n",
       "    }\n",
       "\n",
       "    .dataframe tbody tr th {\n",
       "        vertical-align: top;\n",
       "    }\n",
       "\n",
       "    .dataframe thead th {\n",
       "        text-align: right;\n",
       "    }\n",
       "</style>\n",
       "<table border=\"1\" class=\"dataframe\">\n",
       "  <thead>\n",
       "    <tr style=\"text-align: right;\">\n",
       "      <th></th>\n",
       "      <th>Apple</th>\n",
       "      <th>Amazon</th>\n",
       "      <th>Facebook</th>\n",
       "      <th>Microsoft</th>\n",
       "      <th>Netflix</th>\n",
       "      <th>Tesla</th>\n",
       "    </tr>\n",
       "    <tr>\n",
       "      <th>Date</th>\n",
       "      <th></th>\n",
       "      <th></th>\n",
       "      <th></th>\n",
       "      <th></th>\n",
       "      <th></th>\n",
       "      <th></th>\n",
       "    </tr>\n",
       "  </thead>\n",
       "  <tbody>\n",
       "    <tr>\n",
       "      <th>2015-03-20</th>\n",
       "      <td>125.900002</td>\n",
       "      <td>378.489990</td>\n",
       "      <td>83.800003</td>\n",
       "      <td>42.880001</td>\n",
       "      <td>61.185715</td>\n",
       "      <td>198.080002</td>\n",
       "    </tr>\n",
       "    <tr>\n",
       "      <th>2015-03-23</th>\n",
       "      <td>127.209999</td>\n",
       "      <td>375.109985</td>\n",
       "      <td>84.430000</td>\n",
       "      <td>42.860001</td>\n",
       "      <td>60.714287</td>\n",
       "      <td>199.630005</td>\n",
       "    </tr>\n",
       "    <tr>\n",
       "      <th>2015-03-24</th>\n",
       "      <td>126.690002</td>\n",
       "      <td>374.089996</td>\n",
       "      <td>85.309998</td>\n",
       "      <td>42.900002</td>\n",
       "      <td>62.611427</td>\n",
       "      <td>201.720001</td>\n",
       "    </tr>\n",
       "    <tr>\n",
       "      <th>2015-03-25</th>\n",
       "      <td>123.379997</td>\n",
       "      <td>370.959991</td>\n",
       "      <td>82.919998</td>\n",
       "      <td>41.459999</td>\n",
       "      <td>60.250000</td>\n",
       "      <td>194.300003</td>\n",
       "    </tr>\n",
       "    <tr>\n",
       "      <th>2015-03-26</th>\n",
       "      <td>124.239998</td>\n",
       "      <td>367.350006</td>\n",
       "      <td>83.010002</td>\n",
       "      <td>41.209999</td>\n",
       "      <td>59.751427</td>\n",
       "      <td>190.410004</td>\n",
       "    </tr>\n",
       "  </tbody>\n",
       "</table>\n",
       "</div>"
      ],
      "text/plain": [
       "                 Apple      Amazon   Facebook  Microsoft    Netflix  \\\n",
       "Date                                                                  \n",
       "2015-03-20  125.900002  378.489990  83.800003  42.880001  61.185715   \n",
       "2015-03-23  127.209999  375.109985  84.430000  42.860001  60.714287   \n",
       "2015-03-24  126.690002  374.089996  85.309998  42.900002  62.611427   \n",
       "2015-03-25  123.379997  370.959991  82.919998  41.459999  60.250000   \n",
       "2015-03-26  124.239998  367.350006  83.010002  41.209999  59.751427   \n",
       "\n",
       "                 Tesla  \n",
       "Date                    \n",
       "2015-03-20  198.080002  \n",
       "2015-03-23  199.630005  \n",
       "2015-03-24  201.720001  \n",
       "2015-03-25  194.300003  \n",
       "2015-03-26  190.410004  "
      ]
     },
     "execution_count": 8,
     "metadata": {},
     "output_type": "execute_result"
    }
   ],
   "source": [
    "stock_prices = pd.read_csv('stock_data.csv', parse_dates=True, index_col='Date')\n",
    "stock_prices.head()"
   ]
  },
  {
   "cell_type": "code",
   "execution_count": 9,
   "metadata": {},
   "outputs": [
    {
     "data": {
      "image/png": "[encoded data removed]",
      "text/plain": [
       "<Figure size 432x288 with 1 Axes>"
      ]
     },
     "metadata": {
      "needs_background": "light"
     },
     "output_type": "display_data"
    }
   ],
   "source": [
    "# Taking a quick look at our data\n",
    "\n",
    "plt.plot(stock_prices)\n",
    "plt.ylabel('Price')\n",
    "plt.xlabel('Date')\n",
    "plt.title('Stock Data Overview')\n",
    "plt.show()"
   ]
  },
  {
   "cell_type": "markdown",
   "metadata": {},
   "source": [
    "## Minimum Variance Portfolio\n",
    "The Minimum Variance portfolio uses the variance of the clusters as a risk metric to calculate asset weights. In this example, we will also be showing the different effects of using the three different linkage algorithms. We will first be using the Single Linkage method, then the Complete Linkage method, and finally the Average Linkage method. \n",
    "\n",
    "Raffinot provides a clear and concise explanation of the three linkage algorithms in his initial paper on the __[Hierarchical Clustering Based Asset Allocation](https://ssrn.com/abstract=2840729)__ method in 2017. He defines the Single Linkage algorithm as to where the distance between two clusters is the minimum distance between any two points in the clusters. Alternatively, he describes the Complete Linkage algorithm as to where the distance between two clusters is the maximum of the distance between any two points in the clusters. Intuitively, the Average Linkage method describes the distance between two clusters being the average of the distance between any two points in the clusters.\n",
    "\n",
    "Note that the allocate method for the HierarchicalClusteringAssetAllocation() object requires three parameters to run: \n",
    "1. asset_names (a list of strings containing the asset names), \n",
    "2. asset_prices (a dataframe of historical asset prices - daily close), and \n",
    "3. solution (the type of solution/algorithm to use to calculate the weights). \n",
    "\n",
    "Users can also specify: \n",
    "1. The type of linkage algorithm (shown below) \n",
    "2. The confidence level used for calculating expected shortfall and conditional drawdon at risk \n",
    "3. The optimal number of clusters for clustering\n",
    "4. How to resample the prices\n",
    "\n",
    "For simplicity, we will only be working with the three required parameters and also specifying our linkage algorithm of choice. For more detailed notes on this implementation, please refer to the __[official documentation](https://mlfinlab.readthedocs.io/en/latest/portfolio_optimisation/hierarchical_clustering_asset_allocation.html)__. "
   ]
  },
  {
   "cell_type": "code",
   "execution_count": 10,
   "metadata": {},
   "outputs": [
    {
     "name": "stdout",
     "output_type": "stream",
     "text": [
      "Minimum Variance Portfolio Weights - Single Linkage \n",
      "       Tesla   Netflix  Facebook     Apple    Amazon  Microsoft\n",
      "0  0.102994  0.105544  0.203379  0.272132  0.139727   0.176224\n"
     ]
    }
   ],
   "source": [
    "# HCAA implementation with minimum_variance solution - Single Linkage\n",
    "\n",
    "hcaaMV_single = HierarchicalClusteringAssetAllocation()\n",
    "hcaaMV_single.allocate(asset_names=stock_prices.columns,\n",
    "                       asset_prices=stock_prices,\n",
    "                       allocation_metric='minimum_variance',\n",
    "                       linkage='single')\n",
    "\n",
    "print(\"Minimum Variance Portfolio Weights - Single Linkage \\n\", hcaaMV_single.weights)"
   ]
  },
  {
   "cell_type": "code",
   "execution_count": 12,
   "metadata": {},
   "outputs": [
    {
     "data": {
      "image/png": "[encoded data removed]",
      "text/plain": [
       "<Figure size 432x288 with 1 Axes>"
      ]
     },
     "metadata": {
      "needs_background": "light"
     },
     "output_type": "display_data"
    }
   ],
   "source": [
    "# Plotting our Minimum Variance portfolio - Single Linkage\n",
    "\n",
    "MV_weights = hcaaMV_single.weights.transpose()\n",
    "MV_weights = MV_weights.values.tolist()\n",
    "MV_weights = [item for sublist in MV_weights for item in sublist]\n",
    "y_pos = np.arange(len(stock_prices.columns))\n",
    "stocks = ['Tesla', 'Netflix', 'Facebook', 'Apple', 'Amazon', 'Microsoft']\n",
    "\n",
    "plt.bar(y_pos, MV_weights)\n",
    "plt.xticks(y_pos, stocks)\n",
    "plt.xlabel('Stocks')\n",
    "plt.ylabel('Portfolio Weights')\n",
    "plt.title('Minimum Variance Portfolio Solution - Single Linkage')\n",
    "plt.show()"
   ]
  },
  {
   "cell_type": "code",
   "execution_count": 13,
   "metadata": {},
   "outputs": [
    {
     "name": "stdout",
     "output_type": "stream",
     "text": [
      "Minimum Variance Portfolio Weights - Complete Linkage \n",
      "       Tesla   Netflix     Apple  Facebook    Amazon  Microsoft\n",
      "0  0.101014  0.106141  0.247522   0.22674  0.140891   0.177692\n"
     ]
    }
   ],
   "source": [
    "# HCAA implementation with minimum_variance solution - Complete Linkage\n",
    "\n",
    "hcaaMV_complete = HierarchicalClusteringAssetAllocation()\n",
    "hcaaMV_complete.allocate(asset_names=stock_prices.columns,\n",
    "                         asset_prices=stock_prices,\n",
    "                         allocation_metric='minimum_variance',\n",
    "                         linkage='complete')\n",
    "\n",
    "print(\"Minimum Variance Portfolio Weights - Complete Linkage \\n\", hcaaMV_complete.weights)"
   ]
  },
  {
   "cell_type": "code",
   "execution_count": 14,
   "metadata": {},
   "outputs": [
    {
     "data": {
      "image/png": "[encoded data removed]",
      "text/plain": [
       "<Figure size 432x288 with 1 Axes>"
      ]
     },
     "metadata": {
      "needs_background": "light"
     },
     "output_type": "display_data"
    }
   ],
   "source": [
    "# Plotting our Minimum Variance portfolio - Complete Linkage\n",
    "\n",
    "MV_weights = hcaaMV_complete.weights.transpose()\n",
    "MV_weights = MV_weights.values.tolist()\n",
    "MV_weights = [item for sublist in MV_weights for item in sublist]\n",
    "y_pos = np.arange(len(stock_prices.columns))\n",
    "stocks = ['Tesla', 'Netflix', 'Apple', 'Facebook', 'Amazon', 'Microsoft']\n",
    "\n",
    "plt.bar(y_pos, MV_weights)\n",
    "plt.xticks(y_pos, stocks)\n",
    "plt.xlabel('Stocks')\n",
    "plt.ylabel('Portfolio Weights')\n",
    "plt.title('Minimum Variance Portfolio Solution - Complete Linkage')\n",
    "plt.show()"
   ]
  },
  {
   "cell_type": "code",
   "execution_count": 15,
   "metadata": {},
   "outputs": [
    {
     "name": "stdout",
     "output_type": "stream",
     "text": [
      "Minimum Variance Portfolio Weights - Average Linkage \n",
      "       Tesla   Netflix  Facebook     Apple    Amazon  Microsoft\n",
      "0  0.102994  0.105544  0.203379  0.272132  0.139727   0.176224\n"
     ]
    }
   ],
   "source": [
    "# HCAA implementation with minimum_variance solution - Average Linkage\n",
    "\n",
    "hcaaMV_average = HierarchicalClusteringAssetAllocation()\n",
    "hcaaMV_average.allocate(asset_names=stock_prices.columns,\n",
    "                        asset_prices=stock_prices,\n",
    "                        allocation_metric='minimum_variance',\n",
    "                        linkage='average')\n",
    "\n",
    "print(\"Minimum Variance Portfolio Weights - Average Linkage \\n\", hcaaMV_average.weights)"
   ]
  },
  {
   "cell_type": "code",
   "execution_count": 16,
   "metadata": {},
   "outputs": [
    {
     "data": {
      "image/png": "[encoded data removed]",
      "text/plain": [
       "<Figure size 432x288 with 1 Axes>"
      ]
     },
     "metadata": {
      "needs_background": "light"
     },
     "output_type": "display_data"
    }
   ],
   "source": [
    "# Plotting our Minimum Variance portfolio - Average Linkage\n",
    "\n",
    "MV_weights = hcaaMV_average.weights.transpose()\n",
    "MV_weights = MV_weights.values.tolist()\n",
    "MV_weights = [item for sublist in MV_weights for item in sublist]\n",
    "y_pos = np.arange(len(stock_prices.columns))\n",
    "stocks = ['Tesla', 'Netflix', 'Facebook', 'Apple', 'Amazon', 'Microsoft']\n",
    "\n",
    "plt.bar(y_pos, MV_weights)\n",
    "plt.xticks(y_pos, stocks)\n",
    "plt.xlabel('Stocks')\n",
    "plt.ylabel('Portfolio Weights')\n",
    "plt.title('Minimum Variance Portfolio Solution - Average Linkage')\n",
    "plt.show()"
   ]
  },
  {
   "cell_type": "markdown",
   "metadata": {},
   "source": [
    "While the differences are not substantial, we can see how the three linkage algorithms affect our asset weights in our portfolio combinations."
   ]
  },
  {
   "cell_type": "markdown",
   "metadata": {},
   "source": [
    "## Minimum Standard Deviation Portfolio\n",
    "The Minimum Standard Deviation portfolio uses the standard deviation of the clusters as a risk metric to solve for the optimal portfolio. "
   ]
  },
  {
   "cell_type": "code",
   "execution_count": 17,
   "metadata": {},
   "outputs": [
    {
     "name": "stdout",
     "output_type": "stream",
     "text": [
      "Minimum Standard Deviation Portfolio Weights \n",
      "       Tesla   Netflix  Facebook    Apple    Amazon  Microsoft\n",
      "0  0.166775  0.120945  0.167891  0.26204  0.132993   0.149356\n"
     ]
    }
   ],
   "source": [
    "# HCAA implementation with minimum_standard_deviation solution\n",
    "\n",
    "hcaaMSD = HierarchicalClusteringAssetAllocation()\n",
    "hcaaMSD.allocate(asset_names=stock_prices.columns,\n",
    "                 asset_prices=stock_prices,\n",
    "                 allocation_metric='minimum_standard_deviation')\n",
    "\n",
    "print(\"Minimum Standard Deviation Portfolio Weights \\n\", hcaaMSD.weights)"
   ]
  },
  {
   "cell_type": "code",
   "execution_count": 18,
   "metadata": {},
   "outputs": [
    {
     "data": {
      "image/png": "[encoded data removed]",
      "text/plain": [
       "<Figure size 432x288 with 1 Axes>"
      ]
     },
     "metadata": {
      "needs_background": "light"
     },
     "output_type": "display_data"
    }
   ],
   "source": [
    "# Plotting our Minimum Standard Deviation portfolio\n",
    "\n",
    "MSD_weights = hcaaMSD.weights.transpose()\n",
    "MSD_weights = MSD_weights.values.tolist()\n",
    "MSD_weights = [item for sublist in MSD_weights for item in sublist]\n",
    "y_pos = np.arange(len(stock_prices.columns))\n",
    "stocks = ['Tesla', 'Netflix', 'Facebook', 'Apple', 'Amazon', 'Microsoft']\n",
    "\n",
    "plt.bar(y_pos, MSD_weights)\n",
    "plt.xticks(y_pos, stocks)\n",
    "plt.xlabel('Stocks')\n",
    "plt.ylabel('Portfolio Weights')\n",
    "plt.title('Minimum Standard Deviation Portfolio')\n",
    "plt.show()"
   ]
  },
  {
   "cell_type": "markdown",
   "metadata": {},
   "source": [
    "## Sharpe Ratio Portfolio\n",
    "The Sharpe ratio of the clusters is now used as a risk metric when constructing the optimal portfolio."
   ]
  },
  {
   "cell_type": "code",
   "execution_count": 19,
   "metadata": {},
   "outputs": [
    {
     "name": "stdout",
     "output_type": "stream",
     "text": [
      "Sharpe Ratio Portfolio Weights \n",
      "       Tesla   Netflix  Facebook     Apple    Amazon  Microsoft\n",
      "0  0.175786  0.177988  0.096835  0.184117  0.197579   0.167694\n"
     ]
    }
   ],
   "source": [
    "# HCAA implementation with sharpe_ratio solution\n",
    "\n",
    "hcaaSR = HierarchicalClusteringAssetAllocation()\n",
    "hcaaSR.allocate(asset_names=stock_prices.columns,\n",
    "                asset_prices=stock_prices,\n",
    "                allocation_metric='sharpe_ratio')\n",
    "\n",
    "print(\"Sharpe Ratio Portfolio Weights \\n\", hcaaSR.weights)"
   ]
  },
  {
   "cell_type": "code",
   "execution_count": 20,
   "metadata": {},
   "outputs": [
    {
     "data": {
      "image/png": "[encoded data removed]",
      "text/plain": [
       "<Figure size 432x288 with 1 Axes>"
      ]
     },
     "metadata": {
      "needs_background": "light"
     },
     "output_type": "display_data"
    }
   ],
   "source": [
    "# Plotting our Sharpe ratio portfolio\n",
    "\n",
    "SR_weights = hcaaSR.weights.transpose()\n",
    "SR_weights = SR_weights.values.tolist()\n",
    "SR_weights = [item for sublist in SR_weights for item in sublist]\n",
    "y_pos = np.arange(len(stock_prices.columns))\n",
    "stocks = ['Tesla', 'Netflix', 'Facebook', 'Apple', 'Amazon', 'Microsoft']\n",
    "\n",
    "plt.bar(y_pos, SR_weights)\n",
    "plt.xticks(y_pos, stocks)\n",
    "plt.xlabel('Stocks')\n",
    "plt.ylabel('Portfolio Weights')\n",
    "plt.title('Sharpe Ratio Portfolio')\n",
    "plt.show()"
   ]
  },
  {
   "cell_type": "markdown",
   "metadata": {},
   "source": [
    "## Equal Weighting Portfolio\n",
    "In this example, all the clusters are weighed equally in terms of risk to construct our optimal portfolio."
   ]
  },
  {
   "cell_type": "code",
   "execution_count": 21,
   "metadata": {},
   "outputs": [
    {
     "name": "stdout",
     "output_type": "stream",
     "text": [
      "Equal Weighting Portfolio Weights \n",
      "    Tesla  Netflix  Facebook  Apple  Amazon  Microsoft\n",
      "0   0.25    0.125     0.125   0.25   0.125      0.125\n"
     ]
    }
   ],
   "source": [
    "# HCAA implementation with equal_weighting solution\n",
    "\n",
    "hcaaEW = HierarchicalClusteringAssetAllocation()\n",
    "hcaaEW.allocate(asset_names=stock_prices.columns,\n",
    "                asset_prices=stock_prices,\n",
    "                allocation_metric='equal_weighting')\n",
    "\n",
    "print(\"Equal Weighting Portfolio Weights \\n\", hcaaEW.weights)"
   ]
  },
  {
   "cell_type": "code",
   "execution_count": 22,
   "metadata": {},
   "outputs": [
    {
     "data": {
      "image/png": "[encoded data removed]",
      "text/plain": [
       "<Figure size 432x288 with 1 Axes>"
      ]
     },
     "metadata": {
      "needs_background": "light"
     },
     "output_type": "display_data"
    }
   ],
   "source": [
    "# Plotting our Equal Weighting portfolio\n",
    "\n",
    "EW_weights = hcaaEW.weights.transpose()\n",
    "EW_weights = EW_weights.values.tolist()\n",
    "EW_weights = [item for sublist in EW_weights for item in sublist]\n",
    "y_pos = np.arange(len(stock_prices.columns))\n",
    "stocks = ['Tesla', 'Netflix', 'Facebook', 'Apple', 'Amazon', 'Microsoft']\n",
    "\n",
    "plt.bar(y_pos, EW_weights)\n",
    "plt.xticks(y_pos, stocks)\n",
    "plt.xlabel('Stocks')\n",
    "plt.ylabel('Portfolio Weights')\n",
    "plt.title('Equal Weighting Portfolio')\n",
    "plt.show()"
   ]
  },
  {
   "cell_type": "markdown",
   "metadata": {},
   "source": [
    "## Expected Shortfall Portfolio\n",
    "The Expected Shortfall (CVaR) of the clusters is now being used as a risk metric to contruct our optimal portfolio."
   ]
  },
  {
   "cell_type": "code",
   "execution_count": 23,
   "metadata": {},
   "outputs": [
    {
     "name": "stdout",
     "output_type": "stream",
     "text": [
      "Expected Shortfall Portfolio Weights \n",
      "       Tesla   Netflix  Facebook     Apple    Amazon  Microsoft\n",
      "0  0.171673  0.123084  0.157239  0.261124  0.135141   0.151739\n"
     ]
    }
   ],
   "source": [
    "# HCAA implementation with expected_shortfall solution\n",
    "\n",
    "hcaaES = HierarchicalClusteringAssetAllocation()\n",
    "hcaaES.allocate(asset_names=stock_prices.columns,\n",
    "                asset_prices=stock_prices,\n",
    "                allocation_metric='expected_shortfall')\n",
    "\n",
    "print(\"Expected Shortfall Portfolio Weights \\n\", hcaaES.weights)"
   ]
  },
  {
   "cell_type": "code",
   "execution_count": 24,
   "metadata": {},
   "outputs": [
    {
     "data": {
      "image/png": "[encoded data removed]",
      "text/plain": [
       "<Figure size 432x288 with 1 Axes>"
      ]
     },
     "metadata": {
      "needs_background": "light"
     },
     "output_type": "display_data"
    }
   ],
   "source": [
    "# Plotting our Expected Shortfall portfolio\n",
    "\n",
    "ES_weights = hcaaES.weights.transpose()\n",
    "ES_weights = ES_weights.values.tolist()\n",
    "ES_weights = [item for sublist in ES_weights for item in sublist]\n",
    "y_pos = np.arange(len(stock_prices.columns))\n",
    "stocks = ['Tesla', 'Netflix', 'Facebook', 'Apple', 'Amazon', 'Microsoft']\n",
    "\n",
    "plt.bar(y_pos, ES_weights)\n",
    "plt.xticks(y_pos, stocks)\n",
    "plt.xlabel('Stocks')\n",
    "plt.ylabel('Portfolio Weights')\n",
    "plt.title('Expected Shortfall Portfolio')\n",
    "plt.show()"
   ]
  },
  {
   "cell_type": "markdown",
   "metadata": {},
   "source": [
    "## Conditional Drawdown at Risk Portfolio\n",
    "The Conditional Drawdown at Risk (CDaR) of the clusters is used as a risk metric."
   ]
  },
  {
   "cell_type": "code",
   "execution_count": 25,
   "metadata": {},
   "outputs": [
    {
     "name": "stdout",
     "output_type": "stream",
     "text": [
      "Conditional Drawdown at Risk Portfolio Weights \n",
      "       Tesla   Netflix  Facebook     Apple    Amazon  Microsoft\n",
      "0  0.175554  0.123639  0.112365  0.300838  0.128275   0.159328\n"
     ]
    }
   ],
   "source": [
    "# HCAA implementation with conditional_drawdown_at_risk solution\n",
    "\n",
    "hcaaCDR = HierarchicalClusteringAssetAllocation()\n",
    "hcaaCDR.allocate(asset_names=stock_prices.columns,\n",
    "                 asset_prices=stock_prices,\n",
    "                 allocation_metric='conditional_drawdown_risk')\n",
    "\n",
    "print(\"Conditional Drawdown at Risk Portfolio Weights \\n\", hcaaCDR.weights)"
   ]
  },
  {
   "cell_type": "code",
   "execution_count": 26,
   "metadata": {},
   "outputs": [
    {
     "data": {
      "image/png": "[encoded data removed]",
      "text/plain": [
       "<Figure size 432x288 with 1 Axes>"
      ]
     },
     "metadata": {
      "needs_background": "light"
     },
     "output_type": "display_data"
    }
   ],
   "source": [
    "# Plotting our Conditional Drawdown at Risk portfolio\n",
    "\n",
    "CDR_weights = hcaaCDR.weights.transpose()\n",
    "CDR_weights = CDR_weights.values.tolist()\n",
    "CDR_weights = [item for sublist in CDR_weights for item in sublist]\n",
    "y_pos = np.arange(len(stock_prices.columns))\n",
    "stocks = ['Tesla', 'Netflix', 'Facebook', 'Apple', 'Amazon', 'Microsoft']\n",
    "\n",
    "plt.bar(y_pos, CDR_weights)\n",
    "plt.xticks(y_pos, stocks)\n",
    "plt.xlabel('Stocks')\n",
    "plt.ylabel('Portfolio Weights')\n",
    "plt.title('Conditional Drawdown at Risk Portfolio')\n",
    "plt.show()"
   ]
  },
  {
   "cell_type": "markdown",
   "metadata": {},
   "source": [
    "## Custom Input from Users\n",
    "MLFinLab also provides users with a lot of customizability when it comes to creating their optimal portfolios. Instead of providing the raw historical closing prices for their assets, users can input the asset returns, a covariance matrix of asset returns, and expected asset returns to calculate their optimal portfolio. If you would like to learn more about the customizbility within MLFinLab's HCAA implementation, please refer to the __[official documentation](https://mlfinlab.readthedocs.io/en/latest/portfolio_optimisation/hierarchical_clustering_asset_allocation.html)__.\n",
    "\n",
    "The following parameters in the allocate() method are utilized in order to do so:\n",
    "1. 'asset_returns': (pd.DataFrame/NumPy matrix) A matrix of asset returns\n",
    "2. 'covariance_matrix': (pd.DataFrame/NumPy matrix) A covariance matrix of asset returns\n",
    "3. 'expected_asset_returns: (list) A list of mean asset returns\n",
    "\n",
    "To make some of the necessary calculations, we will make use of the ReturnsEstimation class provided by MLFinLab."
   ]
  },
  {
   "cell_type": "code",
   "execution_count": 27,
   "metadata": {},
   "outputs": [],
   "source": [
    "# Importing ReturnsEstimation class from MLFinLab\n",
    "\n",
    "from mlfinlab.portfolio_optimization.returns_estimators import ReturnsEstimation"
   ]
  },
  {
   "cell_type": "code",
   "execution_count": 28,
   "metadata": {},
   "outputs": [
    {
     "data": {
      "text/html": [
       "<div>\n",
       "<style scoped>\n",
       "    .dataframe tbody tr th:only-of-type {\n",
       "        vertical-align: middle;\n",
       "    }\n",
       "\n",
       "    .dataframe tbody tr th {\n",
       "        vertical-align: top;\n",
       "    }\n",
       "\n",
       "    .dataframe thead th {\n",
       "        text-align: right;\n",
       "    }\n",
       "</style>\n",
       "<table border=\"1\" class=\"dataframe\">\n",
       "  <thead>\n",
       "    <tr style=\"text-align: right;\">\n",
       "      <th></th>\n",
       "      <th>Apple</th>\n",
       "      <th>Amazon</th>\n",
       "      <th>Facebook</th>\n",
       "      <th>Microsoft</th>\n",
       "      <th>Netflix</th>\n",
       "      <th>Tesla</th>\n",
       "    </tr>\n",
       "    <tr>\n",
       "      <th>Date</th>\n",
       "      <th></th>\n",
       "      <th></th>\n",
       "      <th></th>\n",
       "      <th></th>\n",
       "      <th></th>\n",
       "      <th></th>\n",
       "    </tr>\n",
       "  </thead>\n",
       "  <tbody>\n",
       "    <tr>\n",
       "      <th>2015-03-23</th>\n",
       "      <td>0.010405</td>\n",
       "      <td>-0.008930</td>\n",
       "      <td>0.007518</td>\n",
       "      <td>-0.000466</td>\n",
       "      <td>-0.007705</td>\n",
       "      <td>0.007825</td>\n",
       "    </tr>\n",
       "    <tr>\n",
       "      <th>2015-03-24</th>\n",
       "      <td>-0.004088</td>\n",
       "      <td>-0.002719</td>\n",
       "      <td>0.010423</td>\n",
       "      <td>0.000933</td>\n",
       "      <td>0.031247</td>\n",
       "      <td>0.010469</td>\n",
       "    </tr>\n",
       "    <tr>\n",
       "      <th>2015-03-25</th>\n",
       "      <td>-0.026127</td>\n",
       "      <td>-0.008367</td>\n",
       "      <td>-0.028015</td>\n",
       "      <td>-0.033567</td>\n",
       "      <td>-0.037716</td>\n",
       "      <td>-0.036784</td>\n",
       "    </tr>\n",
       "    <tr>\n",
       "      <th>2015-03-26</th>\n",
       "      <td>0.006970</td>\n",
       "      <td>-0.009731</td>\n",
       "      <td>0.001085</td>\n",
       "      <td>-0.006030</td>\n",
       "      <td>-0.008275</td>\n",
       "      <td>-0.020021</td>\n",
       "    </tr>\n",
       "    <tr>\n",
       "      <th>2015-03-27</th>\n",
       "      <td>-0.007968</td>\n",
       "      <td>0.008738</td>\n",
       "      <td>0.003494</td>\n",
       "      <td>-0.005824</td>\n",
       "      <td>-0.008344</td>\n",
       "      <td>-0.028412</td>\n",
       "    </tr>\n",
       "  </tbody>\n",
       "</table>\n",
       "</div>"
      ],
      "text/plain": [
       "               Apple    Amazon  Facebook  Microsoft   Netflix     Tesla\n",
       "Date                                                                   \n",
       "2015-03-23  0.010405 -0.008930  0.007518  -0.000466 -0.007705  0.007825\n",
       "2015-03-24 -0.004088 -0.002719  0.010423   0.000933  0.031247  0.010469\n",
       "2015-03-25 -0.026127 -0.008367 -0.028015  -0.033567 -0.037716 -0.036784\n",
       "2015-03-26  0.006970 -0.009731  0.001085  -0.006030 -0.008275 -0.020021\n",
       "2015-03-27 -0.007968  0.008738  0.003494  -0.005824 -0.008344 -0.028412"
      ]
     },
     "execution_count": 28,
     "metadata": {},
     "output_type": "execute_result"
    }
   ],
   "source": [
    "# Calculating our asset returns\n",
    "\n",
    "returns = ReturnsEstimation.calculate_returns(stock_prices)\n",
    "returns.head()"
   ]
  },
  {
   "cell_type": "code",
   "execution_count": 30,
   "metadata": {},
   "outputs": [
    {
     "data": {
      "text/html": [
       "<div>\n",
       "<style scoped>\n",
       "    .dataframe tbody tr th:only-of-type {\n",
       "        vertical-align: middle;\n",
       "    }\n",
       "\n",
       "    .dataframe tbody tr th {\n",
       "        vertical-align: top;\n",
       "    }\n",
       "\n",
       "    .dataframe thead th {\n",
       "        text-align: right;\n",
       "    }\n",
       "</style>\n",
       "<table border=\"1\" class=\"dataframe\">\n",
       "  <thead>\n",
       "    <tr style=\"text-align: right;\">\n",
       "      <th></th>\n",
       "      <th>Apple</th>\n",
       "      <th>Amazon</th>\n",
       "      <th>Facebook</th>\n",
       "      <th>Microsoft</th>\n",
       "      <th>Netflix</th>\n",
       "      <th>Tesla</th>\n",
       "    </tr>\n",
       "  </thead>\n",
       "  <tbody>\n",
       "    <tr>\n",
       "      <th>Apple</th>\n",
       "      <td>0.000301</td>\n",
       "      <td>0.000177</td>\n",
       "      <td>0.000178</td>\n",
       "      <td>0.000195</td>\n",
       "      <td>0.000196</td>\n",
       "      <td>0.000194</td>\n",
       "    </tr>\n",
       "    <tr>\n",
       "      <th>Amazon</th>\n",
       "      <td>0.000177</td>\n",
       "      <td>0.000351</td>\n",
       "      <td>0.000217</td>\n",
       "      <td>0.000211</td>\n",
       "      <td>0.000257</td>\n",
       "      <td>0.000200</td>\n",
       "    </tr>\n",
       "    <tr>\n",
       "      <th>Facebook</th>\n",
       "      <td>0.000178</td>\n",
       "      <td>0.000217</td>\n",
       "      <td>0.000365</td>\n",
       "      <td>0.000188</td>\n",
       "      <td>0.000227</td>\n",
       "      <td>0.000202</td>\n",
       "    </tr>\n",
       "    <tr>\n",
       "      <th>Microsoft</th>\n",
       "      <td>0.000195</td>\n",
       "      <td>0.000211</td>\n",
       "      <td>0.000188</td>\n",
       "      <td>0.000278</td>\n",
       "      <td>0.000220</td>\n",
       "      <td>0.000199</td>\n",
       "    </tr>\n",
       "    <tr>\n",
       "      <th>Netflix</th>\n",
       "      <td>0.000196</td>\n",
       "      <td>0.000257</td>\n",
       "      <td>0.000227</td>\n",
       "      <td>0.000220</td>\n",
       "      <td>0.000703</td>\n",
       "      <td>0.000273</td>\n",
       "    </tr>\n",
       "    <tr>\n",
       "      <th>Tesla</th>\n",
       "      <td>0.000194</td>\n",
       "      <td>0.000200</td>\n",
       "      <td>0.000202</td>\n",
       "      <td>0.000199</td>\n",
       "      <td>0.000273</td>\n",
       "      <td>0.001026</td>\n",
       "    </tr>\n",
       "  </tbody>\n",
       "</table>\n",
       "</div>"
      ],
      "text/plain": [
       "              Apple    Amazon  Facebook  Microsoft   Netflix     Tesla\n",
       "Apple      0.000301  0.000177  0.000178   0.000195  0.000196  0.000194\n",
       "Amazon     0.000177  0.000351  0.000217   0.000211  0.000257  0.000200\n",
       "Facebook   0.000178  0.000217  0.000365   0.000188  0.000227  0.000202\n",
       "Microsoft  0.000195  0.000211  0.000188   0.000278  0.000220  0.000199\n",
       "Netflix    0.000196  0.000257  0.000227   0.000220  0.000703  0.000273\n",
       "Tesla      0.000194  0.000200  0.000202   0.000199  0.000273  0.001026"
      ]
     },
     "execution_count": 30,
     "metadata": {},
     "output_type": "execute_result"
    }
   ],
   "source": [
    "# Calculating our covariance matrix\n",
    "\n",
    "cov = returns.cov()\n",
    "cov"
   ]
  },
  {
   "cell_type": "code",
   "execution_count": 31,
   "metadata": {},
   "outputs": [
    {
     "data": {
      "text/plain": [
       "Apple        0.171342\n",
       "Amazon       0.365231\n",
       "Facebook     0.167243\n",
       "Microsoft    0.276027\n",
       "Netflix      0.426720\n",
       "Tesla        0.283472\n",
       "dtype: float64"
      ]
     },
     "execution_count": 31,
     "metadata": {},
     "output_type": "execute_result"
    }
   ],
   "source": [
    "# Calculating our mean asset returns\n",
    "\n",
    "mean_returns = ReturnsEstimation.calculate_mean_historical_returns(stock_prices)\n",
    "mean_returns"
   ]
  },
  {
   "cell_type": "code",
   "execution_count": 32,
   "metadata": {},
   "outputs": [
    {
     "name": "stdout",
     "output_type": "stream",
     "text": [
      "Custom HCAA Portfolio - Conditional Drawdown at Risk \n",
      "       Tesla   Netflix  Facebook     Apple    Amazon  Microsoft\n",
      "0  0.175554  0.123639  0.112365  0.300838  0.128275   0.159328\n"
     ]
    }
   ],
   "source": [
    "# From here, we can now create our portfolio\n",
    "\n",
    "hcaa_custom = HierarchicalClusteringAssetAllocation()\n",
    "hcaa_custom.allocate(asset_names=stock_prices.columns,\n",
    "                     asset_returns=returns,\n",
    "                     covariance_matrix=cov, \n",
    "                     expected_asset_returns=mean_returns,\n",
    "                     allocation_metric='conditional_drawdown_risk')\n",
    "\n",
    "print(\"Custom HCAA Portfolio - Conditional Drawdown at Risk \\n\", hcaa_custom.weights)"
   ]
  },
  {
   "cell_type": "code",
   "execution_count": 33,
   "metadata": {},
   "outputs": [
    {
     "data": {
      "image/png": "[encoded data removed]",
      "text/plain": [
       "<Figure size 432x288 with 1 Axes>"
      ]
     },
     "metadata": {
      "needs_background": "light"
     },
     "output_type": "display_data"
    }
   ],
   "source": [
    "# Plotting our custom portfolio\n",
    "\n",
    "custom_weights = hcaa_custom.weights.transpose()\n",
    "custom_weights = custom_weights.values.tolist()\n",
    "custom_weights = [item for sublist in custom_weights for item in sublist]\n",
    "y_pos = np.arange(len(stock_prices.columns))\n",
    "stocks = ['Tesla', 'Netflix', 'Facebook', 'Apple', 'Amazon', 'Microsoft']\n",
    "\n",
    "plt.bar(y_pos, custom_weights)\n",
    "plt.xticks(y_pos, stocks)\n",
    "plt.xlabel('Stocks')\n",
    "plt.ylabel('Portfolio Weights')\n",
    "plt.title('Custom HCAA Portfolio - Conditional Drawdown at Risk')\n",
    "plt.show()"
   ]
  },
  {
   "cell_type": "markdown",
   "metadata": {},
   "source": [
    "Through this implementation, we can see alternative ways of which users can construct an optimal portfolio using the HCAA techniques implemented by MLFinLab."
   ]
  },
  {
   "cell_type": "markdown",
   "metadata": {},
   "source": [
    "## Conclusion\n",
    "Throughout this notebook, we saw how we can apply Raffinot's work from his Hierarchical Equal Risk Contribution technique through the MLFinLab library. We worked through how we can specify many different parameters to solve for our optimal portfolio, including chaning our risk metrics and the type of linkage algorithms being used for clustering. Users were also made aware of how they can customize their input to have more control over their calculations. If you would like to learn more about the HERC technique, please refer to Raffinot's original HERC paper linked at the top of this notebook. Additionally, please refer to the official documentation for this tutorial which can be found __[at this link](https://mlfinlab.readthedocs.io/en/latest/portfolio_optimisation/hierarchical_clustering_asset_allocation.html)__ if you have any further questions."
   ]
  }
 ],
 "metadata": {
  "kernelspec": {
   "display_name": "Python 3",
   "language": "python",
   "name": "python3"
  },
  "language_info": {
   "codemirror_mode": {
    "name": "ipython",
    "version": 3
   },
   "file_extension": ".py",
   "mimetype": "text/x-python",
   "name": "python",
   "nbconvert_exporter": "python",
   "pygments_lexer": "ipython3",
   "version": "3.7.3"
  }
 },
 "nbformat": 4,
 "nbformat_minor": 4
}
